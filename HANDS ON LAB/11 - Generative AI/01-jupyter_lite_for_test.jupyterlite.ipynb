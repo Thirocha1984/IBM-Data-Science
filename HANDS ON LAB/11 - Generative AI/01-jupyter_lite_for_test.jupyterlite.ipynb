{
  "metadata": {
    "kernelspec": {
      "name": "python",
      "display_name": "Python (Pyodide)",
      "language": "python"
    },
    "language_info": {
      "codemirror_mode": {
        "name": "python",
        "version": 3
      },
      "file_extension": ".py",
      "mimetype": "text/x-python",
      "name": "python",
      "nbconvert_exporter": "python",
      "pygments_lexer": "ipython3",
      "version": "3.8"
    }
  },
  "nbformat_minor": 4,
  "nbformat": 4,
  "cells": [
    {
      "cell_type": "markdown",
      "source": "<p style=\"text-align:center\">\n    <a href=\"https://skills.network\" target=\"_blank\">\n    <img src=\"https://cf-courses-data.s3.us.cloud-object-storage.appdomain.cloud/assets/logos/SN_web_lightmode.png\" width=\"300\" alt=\"Skills Network Logo\">\n    </a>\n</p>\n",
      "metadata": {}
    },
    {
      "cell_type": "markdown",
      "source": "# Test Environment for Generative AI classroom labs\n\nThis lab provides a test environment for the codes generated using the Generative AI classroom.\n\nFollow the instructions below to set up this environment for further use.\n",
      "metadata": {}
    },
    {
      "cell_type": "markdown",
      "source": "# Setup\n",
      "metadata": {}
    },
    {
      "cell_type": "markdown",
      "source": "### Install required libraries\n\nIn case of a requirement of installing certain python libraries for use in your task, you may do so as shown below.\n",
      "metadata": {}
    },
    {
      "cell_type": "code",
      "source": "%pip install seaborn\nimport piplite\n\nawait piplite.install(['nbformat', 'plotly'])",
      "metadata": {
        "trusted": true
      },
      "outputs": [],
      "execution_count": 1
    },
    {
      "cell_type": "markdown",
      "source": "### Dataset URL from the GenAI lab\nUse the URL provided in the GenAI lab in the cell below. \n",
      "metadata": {}
    },
    {
      "cell_type": "code",
      "source": "URL = \"https://cf-courses-data.s3.us.cloud-object-storage.appdomain.cloud/IBMDeveloperSkillsNetwork-DA0101EN-Coursera/laptop_pricing_dataset_mod1.csv\"",
      "metadata": {
        "trusted": true
      },
      "outputs": [],
      "execution_count": 2
    },
    {
      "cell_type": "markdown",
      "source": "### Downloading the dataset\n\nExecute the following code to download the dataset in to the interface.\n\n> Please note that this step is essential in JupyterLite. If you are using a downloaded version of this notebook and running it on JupyterLabs, then you can skip this step and directly use the URL in pandas.read_csv() function to read the dataset as a dataframe\n",
      "metadata": {}
    },
    {
      "cell_type": "code",
      "source": "from pyodide.http import pyfetch\n\nasync def download(url, filename):\n    response = await pyfetch(url)\n    if response.status == 200:\n        with open(filename, \"wb\") as f:\n            f.write(await response.bytes())\n\npath = URL\n\nawait download(path, \"dataset.csv\")",
      "metadata": {
        "trusted": true
      },
      "outputs": [],
      "execution_count": 3
    },
    {
      "cell_type": "markdown",
      "source": "---\n",
      "metadata": {}
    },
    {
      "cell_type": "markdown",
      "source": "# Test Environment\n",
      "metadata": {}
    },
    {
      "cell_type": "code",
      "source": "# Keep appending the code generated to this cell, or add more cells below this to execute in parts\nimport pandas as pd\n\n# Specify the file path\nfile_path = \"dataset.csv\"\n\n# Read the CSV file into a Pandas data frame\ndf = pd.read_csv(file_path)\n\n# Assuming the first rows of the file are the headers, you don't need to specify any additional parameters\n\n# Additional details:\n# - The `pd.read_csv()` function is used to read a CSV file into a Pandas data frame.\n# - By default, it assumes that the first row of the file contains the headers for the data.\n# - If your file doesn't have headers, you can specify `header=None` as an additional parameter.\n# - You can also specify other parameters, such as `sep` to specify the delimiter used in the file.\n# - Make sure you have the Pandas library installed in your Python environment before running this code.",
      "metadata": {
        "trusted": true
      },
      "outputs": [],
      "execution_count": 8
    },
    {
      "cell_type": "code",
      "source": "import pandas as pd\n\n# Assuming you already have a Pandas data frame named 'df'\n\n# Identify columns with missing values\ncolumns_with_missing_values = df.columns[df.isnull().any()]\n\n# Additional details:\n# - The `df.isnull()` function returns a Boolean data frame where each cell is True if it contains a missing value (NaN), and False otherwise.\n# - The `df.columns` attribute returns the column labels of the data frame.\n# - The `.any()` method returns a Boolean Series indicating whether any value in the given axis (in this case, columns) is True.\n# - Finally, the `.columns` attribute is used to retrieve the column labels where the condition is True.\n\n# You can now use the 'columns_with_missing_values' variable to further analyze or handle the columns with missing values.",
      "metadata": {
        "trusted": true
      },
      "outputs": [],
      "execution_count": 9
    },
    {
      "cell_type": "code",
      "source": "print(columns_with_missing_values)",
      "metadata": {
        "trusted": true
      },
      "outputs": [
        {
          "name": "stdout",
          "text": "Index(['Screen_Size_cm', 'Weight_kg'], dtype='object')\n",
          "output_type": "stream"
        }
      ],
      "execution_count": 10
    },
    {
      "cell_type": "code",
      "source": "import pandas as pd\n\n# Assuming you already have a Pandas data frame named 'df'\n\n# Replace missing values in the 'Screen_Size_cm' column with the most frequent value\nmost_frequent_value = df['Screen_Size_cm'].mode()[0]\ndf['Screen_Size_cm'].fillna(most_frequent_value, inplace=True)\n\n# Replace missing values in the 'Weight_kg' column with the mean value\nmean_value = df['Weight_kg'].mean()\ndf['Weight_kg'].fillna(mean_value, inplace=True)\n\n# Additional details:\n# - The `.mode()` method is used to calculate the most frequent value in a column.\n# - The `[0]` indexing is used to retrieve the most frequent value from the resulting Series.\n# - The `.fillna()` method is used to replace missing values with a specified value.\n# - The `inplace=True` parameter is used to modify the original data frame instead of creating a new one.\n\n# You can now use the modified 'df' data frame, which has the missing values replaced according to the guidelines.",
      "metadata": {
        "trusted": true
      },
      "outputs": [
        {
          "name": "stderr",
          "text": "<ipython-input-11-d24d76bd4fa0>:7: FutureWarning: A value is trying to be set on a copy of a DataFrame or Series through chained assignment using an inplace method.\nThe behavior will change in pandas 3.0. This inplace method will never work because the intermediate object on which we are setting values always behaves as a copy.\n\nFor example, when doing 'df[col].method(value, inplace=True)', try using 'df.method({col: value}, inplace=True)' or df[col] = df[col].method(value) instead, to perform the operation inplace on the original object.\n\n\n  df['Screen_Size_cm'].fillna(most_frequent_value, inplace=True)\n<ipython-input-11-d24d76bd4fa0>:11: FutureWarning: A value is trying to be set on a copy of a DataFrame or Series through chained assignment using an inplace method.\nThe behavior will change in pandas 3.0. This inplace method will never work because the intermediate object on which we are setting values always behaves as a copy.\n\nFor example, when doing 'df[col].method(value, inplace=True)', try using 'df.method({col: value}, inplace=True)' or df[col] = df[col].method(value) instead, to perform the operation inplace on the original object.\n\n\n  df['Weight_kg'].fillna(mean_value, inplace=True)\n",
          "output_type": "stream"
        }
      ],
      "execution_count": 11
    },
    {
      "cell_type": "code",
      "source": "import pandas as pd\n\n# Assuming you already have a Pandas data frame named 'df'\n\n# Change the data type of 'Screen_Size_cm' and 'Weight_kg' to float\ndf['Screen_Size_cm'] = df['Screen_Size_cm'].astype(float)\ndf['Weight_kg'] = df['Weight_kg'].astype(float)\n\n# Additional details:\n# - The `.astype()` method is used to change the data type of a column.\n# - In this case, we're specifying `float` as the desired data type.\n# - Make sure the columns contain numeric values that can be converted to float.\n# - If there are any non-numeric values in the columns, the conversion will raise an error.\n\n# You can now use the modified 'df' data frame, which has the data types of 'Screen_Size_cm' and 'Weight_kg' changed to float.",
      "metadata": {
        "trusted": true
      },
      "outputs": [],
      "execution_count": 12
    },
    {
      "cell_type": "code",
      "source": "import pandas as pd\n\n# Assuming you already have a Pandas data frame named 'df'\n\n# Convert 'Screen_Size_cm' from centimeters to inches and modify the attribute name\ndf['Screen_Size_inch'] = df['Screen_Size_cm'] * 0.393701\ndf.drop('Screen_Size_cm', axis=1, inplace=True)\n\n# Convert 'Weight_kg' from kilograms to pounds and modify the attribute name\ndf['Weight_pounds'] = df['Weight_kg'] * 2.20462\ndf.drop('Weight_kg', axis=1, inplace=True)\n\n# Additional details:\n# - The code multiplies the values under 'Screen_Size_cm' by 0.393701 to convert centimeters to inches.\n# - The resulting values are stored in a new attribute named 'Screen_Size_inch'.\n# - The original 'Screen_Size_cm' attribute is dropped from the data frame using the `.drop()` method.\n# - Similarly, the code multiplies the values under 'Weight_kg' by 2.20462 to convert kilograms to pounds.\n# - The resulting values are stored in a new attribute named 'Weight_pounds'.\n# - The original 'Weight_kg' attribute is dropped from the data frame.\n\n# You can now use the modified 'df' data frame, which has the contents and attribute names modified as required.",
      "metadata": {
        "trusted": true
      },
      "outputs": [],
      "execution_count": 13
    },
    {
      "cell_type": "code",
      "source": "import pandas as pd\n\n# Assuming you already have a Pandas data frame named 'df'\n\n# Normalize the content under 'CPU_frequency' with respect to its maximum value\nmax_value = df['CPU_frequency'].max()\ndf['CPU_frequency'] = df['CPU_frequency'] / max_value\n\n# Additional details:\n# - The code calculates the maximum value of the 'CPU_frequency' attribute using the `.max()` method.\n# - It then divides the values under 'CPU_frequency' by the maximum value to normalize them.\n# - The resulting normalized values overwrite the original values in the 'CPU_frequency' attribute.\n\n# You can now use the modified 'df' data frame, which has the content under the 'CPU_frequency' attribute normalized.",
      "metadata": {
        "trusted": true
      },
      "outputs": [],
      "execution_count": 14
    },
    {
      "cell_type": "code",
      "source": "print(df)",
      "metadata": {
        "trusted": true
      },
      "outputs": [
        {
          "name": "stdout",
          "text": "     Unnamed: 0 Manufacturer  Category     Screen  GPU  OS  CPU_core  \\\n0             0         Acer         4  IPS Panel    2   1         5   \n1             1         Dell         3    Full HD    1   1         3   \n2             2         Dell         3    Full HD    1   1         7   \n3             3         Dell         4  IPS Panel    2   1         5   \n4             4           HP         4    Full HD    2   1         7   \n..          ...          ...       ...        ...  ...  ..       ...   \n233         233       Lenovo         4  IPS Panel    2   1         7   \n234         234      Toshiba         3    Full HD    2   1         5   \n235         235       Lenovo         4  IPS Panel    2   1         5   \n236         236       Lenovo         3    Full HD    3   1         5   \n237         237      Toshiba         3    Full HD    2   1         5   \n\n     CPU_frequency  RAM_GB  Storage_GB_SSD  Price  Screen_Size_inch  \\\n0         0.551724       8             256    978         14.000008   \n1         0.689655       4             256    634         15.600008   \n2         0.931034       8             256    946         15.600008   \n3         0.551724       8             128   1244         13.300007   \n4         0.620690       8             256    837         15.600008   \n..             ...     ...             ...    ...               ...   \n233       0.896552       8             256   1891         14.000008   \n234       0.827586       8             256   1950         13.300007   \n235       0.896552       8             256   2236         12.000006   \n236       0.862069       6             256    883         15.600008   \n237       0.793103       8             256   1499         14.000008   \n\n     Weight_pounds  \n0         3.527392  \n1         4.850164  \n2         4.850164  \n3         2.689636  \n4         4.210824  \n..             ...  \n233       3.747854  \n234       2.645544  \n235       2.998283  \n236       5.291088  \n237       4.299009  \n\n[238 rows x 13 columns]\n",
          "output_type": "stream"
        }
      ],
      "execution_count": 16
    },
    {
      "cell_type": "code",
      "source": "import pandas as pd\n\n# Assuming you already have a Pandas data frame named 'df'\n\n# Convert the 'Screen' attribute into indicator variables\ndf1 = pd.get_dummies(df['Screen'], prefix='Screen')\n\n# Append df1 into the original data frame df\ndf = pd.concat([df, df1], axis=1)\n\n# Drop the original 'Screen' attribute from the data frame\ndf.drop('Screen', axis=1, inplace=True)\n\n# Additional details:\n# - The `pd.get_dummies()` function is used to convert a categorical attribute into indicator variables.\n# - The resulting indicator variables are stored in a new data frame named 'df1'.\n# - The `prefix` parameter is used to specify the naming convention for the indicator variables.\n# - The `pd.concat()` function is used to concatenate the original data frame 'df' and 'df1' along the column axis (axis=1).\n# - The resulting concatenated data frame is assigned back to 'df'.\n# - Finally, the `.drop()` method is used to drop the original 'Screen' attribute from 'df'.\n\n# You can now use the modified 'df' data frame, which has the 'Screen' attribute converted into indicator variables, appended, and the original attribute dropped.",
      "metadata": {
        "trusted": true
      },
      "outputs": [],
      "execution_count": 17
    },
    {
      "cell_type": "code",
      "source": "print(df)",
      "metadata": {
        "trusted": true
      },
      "outputs": [
        {
          "name": "stdout",
          "text": "     Unnamed: 0 Manufacturer  Category  GPU  OS  CPU_core  CPU_frequency  \\\n0             0         Acer         4    2   1         5       0.551724   \n1             1         Dell         3    1   1         3       0.689655   \n2             2         Dell         3    1   1         7       0.931034   \n3             3         Dell         4    2   1         5       0.551724   \n4             4           HP         4    2   1         7       0.620690   \n..          ...          ...       ...  ...  ..       ...            ...   \n233         233       Lenovo         4    2   1         7       0.896552   \n234         234      Toshiba         3    2   1         5       0.827586   \n235         235       Lenovo         4    2   1         5       0.896552   \n236         236       Lenovo         3    3   1         5       0.862069   \n237         237      Toshiba         3    2   1         5       0.793103   \n\n     RAM_GB  Storage_GB_SSD  Price  Screen_Size_inch  Weight_pounds  \\\n0         8             256    978         14.000008       3.527392   \n1         4             256    634         15.600008       4.850164   \n2         8             256    946         15.600008       4.850164   \n3         8             128   1244         13.300007       2.689636   \n4         8             256    837         15.600008       4.210824   \n..      ...             ...    ...               ...            ...   \n233       8             256   1891         14.000008       3.747854   \n234       8             256   1950         13.300007       2.645544   \n235       8             256   2236         12.000006       2.998283   \n236       6             256    883         15.600008       5.291088   \n237       8             256   1499         14.000008       4.299009   \n\n     Screen_Full HD  Screen_IPS Panel  \n0             False              True  \n1              True             False  \n2              True             False  \n3             False              True  \n4              True             False  \n..              ...               ...  \n233           False              True  \n234            True             False  \n235           False              True  \n236            True             False  \n237            True             False  \n\n[238 rows x 14 columns]\n",
          "output_type": "stream"
        }
      ],
      "execution_count": 18
    },
    {
      "cell_type": "code",
      "source": "# Convert 'Price' from USD to Euros\nexchange_rate = 0.85\ndf['Price'] = df['Price'] * exchange_rate",
      "metadata": {
        "trusted": true
      },
      "outputs": [],
      "execution_count": 19
    },
    {
      "cell_type": "code",
      "source": "print(df)",
      "metadata": {
        "trusted": true
      },
      "outputs": [
        {
          "name": "stdout",
          "text": "     Unnamed: 0 Manufacturer  Category  GPU  OS  CPU_core  CPU_frequency  \\\n0             0         Acer         4    2   1         5       0.551724   \n1             1         Dell         3    1   1         3       0.689655   \n2             2         Dell         3    1   1         7       0.931034   \n3             3         Dell         4    2   1         5       0.551724   \n4             4           HP         4    2   1         7       0.620690   \n..          ...          ...       ...  ...  ..       ...            ...   \n233         233       Lenovo         4    2   1         7       0.896552   \n234         234      Toshiba         3    2   1         5       0.827586   \n235         235       Lenovo         4    2   1         5       0.896552   \n236         236       Lenovo         3    3   1         5       0.862069   \n237         237      Toshiba         3    2   1         5       0.793103   \n\n     RAM_GB  Storage_GB_SSD    Price  Screen_Size_inch  Weight_pounds  \\\n0         8             256   831.30         14.000008       3.527392   \n1         4             256   538.90         15.600008       4.850164   \n2         8             256   804.10         15.600008       4.850164   \n3         8             128  1057.40         13.300007       2.689636   \n4         8             256   711.45         15.600008       4.210824   \n..      ...             ...      ...               ...            ...   \n233       8             256  1607.35         14.000008       3.747854   \n234       8             256  1657.50         13.300007       2.645544   \n235       8             256  1900.60         12.000006       2.998283   \n236       6             256   750.55         15.600008       5.291088   \n237       8             256  1274.15         14.000008       4.299009   \n\n     Screen_Full HD  Screen_IPS Panel  \n0             False              True  \n1              True             False  \n2              True             False  \n3             False              True  \n4              True             False  \n..              ...               ...  \n233           False              True  \n234            True             False  \n235           False              True  \n236            True             False  \n237            True             False  \n\n[238 rows x 14 columns]\n",
          "output_type": "stream"
        }
      ],
      "execution_count": 20
    },
    {
      "cell_type": "code",
      "source": "# Perform min-max normalization on 'CPU_frequency'\nmin_value = df['CPU_frequency'].min()\nmax_value = df['CPU_frequency'].max()\ndf['CPU_frequency'] = (df['CPU_frequency'] - min_value) / (max_value - min_value)",
      "metadata": {
        "trusted": true
      },
      "outputs": [],
      "execution_count": 21
    },
    {
      "cell_type": "code",
      "source": "print(df)",
      "metadata": {
        "trusted": true
      },
      "outputs": [
        {
          "name": "stdout",
          "text": "     Unnamed: 0 Manufacturer  Category  GPU  OS  CPU_core  CPU_frequency  \\\n0             0         Acer         4    2   1         5       0.235294   \n1             1         Dell         3    1   1         3       0.470588   \n2             2         Dell         3    1   1         7       0.882353   \n3             3         Dell         4    2   1         5       0.235294   \n4             4           HP         4    2   1         7       0.352941   \n..          ...          ...       ...  ...  ..       ...            ...   \n233         233       Lenovo         4    2   1         7       0.823529   \n234         234      Toshiba         3    2   1         5       0.705882   \n235         235       Lenovo         4    2   1         5       0.823529   \n236         236       Lenovo         3    3   1         5       0.764706   \n237         237      Toshiba         3    2   1         5       0.647059   \n\n     RAM_GB  Storage_GB_SSD    Price  Screen_Size_inch  Weight_pounds  \\\n0         8             256   831.30         14.000008       3.527392   \n1         4             256   538.90         15.600008       4.850164   \n2         8             256   804.10         15.600008       4.850164   \n3         8             128  1057.40         13.300007       2.689636   \n4         8             256   711.45         15.600008       4.210824   \n..      ...             ...      ...               ...            ...   \n233       8             256  1607.35         14.000008       3.747854   \n234       8             256  1657.50         13.300007       2.645544   \n235       8             256  1900.60         12.000006       2.998283   \n236       6             256   750.55         15.600008       5.291088   \n237       8             256  1274.15         14.000008       4.299009   \n\n     Screen_Full HD  Screen_IPS Panel  \n0             False              True  \n1              True             False  \n2              True             False  \n3             False              True  \n4              True             False  \n..              ...               ...  \n233           False              True  \n234            True             False  \n235           False              True  \n236            True             False  \n237            True             False  \n\n[238 rows x 14 columns]\n",
          "output_type": "stream"
        }
      ],
      "execution_count": 22
    },
    {
      "cell_type": "markdown",
      "source": "## Authors\n",
      "metadata": {}
    },
    {
      "cell_type": "markdown",
      "source": "[Abhishek Gagneja](https://www.linkedin.com/in/abhishek-gagneja-23051987/)\n",
      "metadata": {}
    },
    {
      "cell_type": "markdown",
      "source": "## Change Log\n",
      "metadata": {}
    },
    {
      "cell_type": "markdown",
      "source": "|Date (YYYY-MM-DD)|Version|Changed By|Change Description|\n|-|-|-|-|\n|2023-12-10|0.1|Abhishek Gagneja|Initial Draft created|\n",
      "metadata": {}
    },
    {
      "cell_type": "markdown",
      "source": "Copyright © 2023 IBM Corporation. All rights reserved.\n",
      "metadata": {}
    }
  ]
}
