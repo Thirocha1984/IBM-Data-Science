{
  "metadata": {
    "kernelspec": {
      "name": "python",
      "display_name": "Python (Pyodide)",
      "language": "python"
    },
    "language_info": {
      "codemirror_mode": {
        "name": "python",
        "version": 3
      },
      "file_extension": ".py",
      "mimetype": "text/x-python",
      "name": "python",
      "nbconvert_exporter": "python",
      "pygments_lexer": "ipython3",
      "version": "3.8"
    }
  },
  "nbformat_minor": 4,
  "nbformat": 4,
  "cells": [
    {
      "cell_type": "markdown",
      "source": "<p style=\"text-align:center\">\n    <a href=\"https://skills.network\" target=\"_blank\">\n    <img src=\"https://cf-courses-data.s3.us.cloud-object-storage.appdomain.cloud/assets/logos/SN_web_lightmode.png\" width=\"300\" alt=\"Skills Network Logo\">\n    </a>\n</p>\n",
      "metadata": {}
    },
    {
      "cell_type": "markdown",
      "source": "# Test Environment for Generative AI classroom labs\n\nThis lab provides a test environment for the codes generated using the Generative AI classroom.\n\nFollow the instructions below to set up this environment for further use.\n",
      "metadata": {}
    },
    {
      "cell_type": "markdown",
      "source": "# Setup\n",
      "metadata": {}
    },
    {
      "cell_type": "markdown",
      "source": "### Install required libraries\n\nIn case of a requirement of installing certain python libraries for use in your task, you may do so as shown below.\n",
      "metadata": {}
    },
    {
      "cell_type": "code",
      "source": "%pip install seaborn\nimport piplite\n\nawait piplite.install(['nbformat', 'plotly'])",
      "metadata": {
        "trusted": true
      },
      "outputs": [],
      "execution_count": 1
    },
    {
      "cell_type": "markdown",
      "source": "### Dataset URL from the GenAI lab\nUse the URL provided in the GenAI lab in the cell below. \n",
      "metadata": {}
    },
    {
      "cell_type": "code",
      "source": "URL = \"https://cf-courses-data.s3.us.cloud-object-storage.appdomain.cloud/IBMDeveloperSkillsNetwork-DA0101EN-Coursera/laptop_pricing_dataset_mod2.csv\"",
      "metadata": {
        "trusted": true
      },
      "outputs": [],
      "execution_count": 2
    },
    {
      "cell_type": "markdown",
      "source": "### Downloading the dataset\n\nExecute the following code to download the dataset in to the interface.\n\n> Please note that this step is essential in JupyterLite. If you are using a downloaded version of this notebook and running it on JupyterLabs, then you can skip this step and directly use the URL in pandas.read_csv() function to read the dataset as a dataframe\n",
      "metadata": {}
    },
    {
      "cell_type": "code",
      "source": "from pyodide.http import pyfetch\n\nasync def download(url, filename):\n    response = await pyfetch(url)\n    if response.status == 200:\n        with open(filename, \"wb\") as f:\n            f.write(await response.bytes())\n\npath = URL\n\nawait download(path, \"dataset3.csv\")",
      "metadata": {
        "trusted": true
      },
      "outputs": [],
      "execution_count": 3
    },
    {
      "cell_type": "markdown",
      "source": "---\n",
      "metadata": {}
    },
    {
      "cell_type": "markdown",
      "source": "# Test Environment\n",
      "metadata": {}
    },
    {
      "cell_type": "code",
      "source": "import pandas as pd\n\n# Define the file path\nfile_path = \"dataset3.csv\"\n\n# Read the CSV file into a pandas data frame\ndata_frame = pd.read_csv(file_path)\n\n# Assume the first row of the file can be used as the headers for the data\n# If the file doesn't have headers, you can remove the 'header' parameter\ndata_frame = pd.read_csv(file_path, header=0)\n\n# Additional details:\n# - The 'pd.read_csv()' function is used to read a CSV file into a pandas data frame.\n# - The 'header' parameter in the 'pd.read_csv()' function specifies which row to use as the headers.\n#   By default, it is set to 'infer', which means pandas will try to infer the headers from the file.\n#   If the headers are in the first row, you can set the 'header' parameter to 0.",
      "metadata": {
        "trusted": true
      },
      "outputs": [
        {
          "name": "stderr",
          "text": "<ipython-input-4-b8b8b2765cff>:1: DeprecationWarning: \nPyarrow will become a required dependency of pandas in the next major release of pandas (pandas 3.0),\n(to allow more performant data types, such as the Arrow string type, and better interoperability with other libraries)\nbut was not found to be installed on your system.\nIf this would cause problems for you,\nplease provide us feedback at https://github.com/pandas-dev/pandas/issues/54466\n        \n  import pandas as pd\n",
          "output_type": "stream"
        }
      ],
      "execution_count": 4
    },
    {
      "cell_type": "code",
      "source": "import pandas as pd\nfrom sklearn.linear_model import LinearRegression\nfrom sklearn.metrics import mean_squared_error, r2_score\n\n# Assume you have a pandas data frame called 'data_frame' with two columns: 'source_variable' and 'target_variable'\n\n# Extract the source variable and target variable from the data frame\nX = data_frame[['CPU_frequency']]\ny = data_frame['Price']\n\n# Initialize a linear regression model\nmodel = LinearRegression()\n\n# Train the model using the source and target variables\nmodel.fit(X, y)\n\n# Make predictions using the trained model\ny_pred = model.predict(X)\n\n# Calculate the mean squared error (MSE)\nmse = mean_squared_error(y, y_pred)\n\n# Calculate the coefficient of determination (R^2)\nr2 = r2_score(y, y_pred)\n\n# Display the MSE and R^2 values\nprint(\"Mean Squared Error (MSE):\", mse)\nprint(\"Coefficient of Determination (R^2):\", r2)\n\n# Additional details:\n# - The 'LinearRegression' class from the 'sklearn.linear_model' module is used to create a linear regression model.\n# - The 'fit()' method is used to train the model using the source and target variables.\n# - The 'predict()' method is used to make predictions using the trained model.\n# - The 'mean_squared_error()' function from the 'sklearn.metrics' module is used to calculate the MSE.\n# - The 'r2_score()' function from the 'sklearn.metrics' module is used to calculate the R^2 value.",
      "metadata": {
        "trusted": true
      },
      "outputs": [
        {
          "name": "stdout",
          "text": "Mean Squared Error (MSE): 284583.44058686297\nCoefficient of Determination (R^2): 0.13444363210243238\n",
          "output_type": "stream"
        }
      ],
      "execution_count": 5
    },
    {
      "cell_type": "code",
      "source": "import pandas as pd\nfrom sklearn.linear_model import LinearRegression\nfrom sklearn.metrics import mean_squared_error, r2_score\n\n# Assume you have a pandas data frame called 'data_frame' with multiple columns: 'source_variable_1', 'source_variable_2', ..., 'target_variable'\n\n# Extract the source variables and target variable from the data frame\nX = data_frame[['CPU_frequency', 'RAM_GB', 'Storage_GB_SSD', 'CPU_core', 'OS', 'GPU', 'Category']]\ny = data_frame['Price']\n\n# Initialize a linear regression model\nmodel = LinearRegression()\n\n# Train the model using the source and target variables\nmodel.fit(X, y)\n\n# Make predictions using the trained model\ny_pred = model.predict(X)\n\n# Calculate the mean squared error (MSE)\nmse = mean_squared_error(y, y_pred)\n\n# Calculate the coefficient of determination (R^2)\nr2 = r2_score(y, y_pred)\n\n# Display the MSE and R^2 values\nprint(\"Mean Squared Error (MSE):\", mse)\nprint(\"Coefficient of Determination (R^2):\", r2)\n\n# Additional details:\n# - The 'LinearRegression' class from the 'sklearn.linear_model' module is used to create a linear regression model.\n# - The 'fit()' method is used to train the model using the source and target variables.\n# - The 'predict()' method is used to make predictions using the trained model.\n# - The 'mean_squared_error()' function from the 'sklearn.metrics' module is used to calculate the MSE.\n# - The 'r2_score()' function from the 'sklearn.metrics' module is used to calculate the R^2 value.",
      "metadata": {
        "trusted": true
      },
      "outputs": [
        {
          "name": "stdout",
          "text": "Mean Squared Error (MSE): 161680.57263893107\nCoefficient of Determination (R^2): 0.5082509055187374\n",
          "output_type": "stream"
        }
      ],
      "execution_count": 7
    },
    {
      "cell_type": "code",
      "source": "import pandas as pd\nimport numpy as np\nfrom sklearn.linear_model import LinearRegression\nfrom sklearn.preprocessing import PolynomialFeatures\nfrom sklearn.metrics import mean_squared_error, r2_score\n\n# Assume you have a pandas data frame called 'data_frame' with two columns: 'source_variable' and 'target_variable'\n\n# Extract the source variable and target variable from the data frame\nX = data_frame[['CPU_frequency']]\ny = data_frame['Price']\n\n# Initialize lists to store the MSE and R^2 values for each model\nmse_values = []\nr2_values = []\n\n# Loop through the polynomial orders\nfor order in [2, 3, 5]:\n    # Create polynomial features\n    polynomial_features = PolynomialFeatures(degree=order)\n    X_poly = polynomial_features.fit_transform(X)\n\n    # Initialize a linear regression model\n    model = LinearRegression()\n\n    # Train the model using the polynomial features and target variable\n    model.fit(X_poly, y)\n\n    # Make predictions using the trained model\n    y_pred = model.predict(X_poly)\n\n    # Calculate the mean squared error (MSE)\n    mse = mean_squared_error(y, y_pred)\n\n    # Calculate the coefficient of determination (R^2)\n    r2 = r2_score(y, y_pred)\n\n    # Append the MSE and R^2 values to the lists\n    mse_values.append(mse)\n    r2_values.append(r2)\n\n    # Display the MSE and R^2 values for the current model\n    print(f\"Polynomial Order {order}:\")\n    print(\"Mean Squared Error (MSE):\", mse)\n    print(\"Coefficient of Determination (R^2):\", r2)\n    print()\n\n# Compare the performance of the models\nbest_order = np.argmin(mse_values)\nworst_order = np.argmax(r2_values)\n\nprint(\"Model Comparison:\")\nprint(f\"Best Polynomial Order: {best_order + 2}\")\nprint(f\"Worst Polynomial Order: {worst_order + 2}\")\n\n# Additional details:\n# - The 'PolynomialFeatures' class from the 'sklearn.preprocessing' module is used to create polynomial features.\n# - The 'fit_transform()' method is used to transform the source variable into polynomial features.\n# - The 'degree' parameter in the 'PolynomialFeatures' class specifies the maximum degree of the polynomial features.\n# - The 'argmin()' and 'argmax()' functions from the 'numpy' module are used to find the index of the minimum and maximum values in a list, respectively.",
      "metadata": {
        "trusted": true
      },
      "outputs": [
        {
          "name": "stdout",
          "text": "Polynomial Order 2:\nMean Squared Error (MSE): 249022.66596751186\nCoefficient of Determination (R^2): 0.2426012074542374\n\nPolynomial Order 3:\nMean Squared Error (MSE): 241024.863038488\nCoefficient of Determination (R^2): 0.2669264079653102\n\nPolynomial Order 5:\nMean Squared Error (MSE): 229137.29548054413\nCoefficient of Determination (R^2): 0.30308227064436244\n\nModel Comparison:\nBest Polynomial Order: 4\nWorst Polynomial Order: 4\n",
          "output_type": "stream"
        }
      ],
      "execution_count": 8
    },
    {
      "cell_type": "code",
      "source": "import pandas as pd\nimport numpy as np\nfrom sklearn.pipeline import make_pipeline\nfrom sklearn.preprocessing import StandardScaler, PolynomialFeatures\nfrom sklearn.linear_model import LinearRegression\nfrom sklearn.metrics import mean_squared_error, r2_score\n\n# Assume you have a pandas data frame called 'data_frame' with multiple columns: 'source_variable_1', 'source_variable_2', ..., 'target_variable'\n\n# Extract the source variables and target variable from the data frame\nX = data_frame[['CPU_frequency', 'RAM_GB', 'Storage_GB_SSD', 'CPU_core', 'OS', 'GPU', 'Category']]\ny = data_frame['Price']\n\n# Create a pipeline that performs parameter scaling, polynomial feature generation, and linear regression\npipeline = make_pipeline(\n    StandardScaler(),\n    PolynomialFeatures(degree=2),\n    LinearRegression()\n)\n\n# Train the model using the source and target variables\npipeline.fit(X, y)\n\n# Make predictions using the trained model\ny_pred = pipeline.predict(X)\n\n# Calculate the mean squared error (MSE)\nmse = mean_squared_error(y, y_pred)\n\n# Calculate the coefficient of determination (R^2)\nr2 = r2_score(y, y_pred)\n\n# Display the MSE and R^2 values\nprint(\"Mean Squared Error (MSE):\", mse)\nprint(\"Coefficient of Determination (R^2):\", r2)\n\n# Additional details:\n# - The 'make_pipeline()' function from the 'sklearn.pipeline' module is used to create a pipeline.\n# - The 'StandardScaler' class from the 'sklearn.preprocessing' module is used to perform parameter scaling.\n# - The 'PolynomialFeatures' class from the 'sklearn.preprocessing' module is used to create polynomial features.\n# - The 'LinearRegression' class from the 'sklearn.linear_model' module is used for linear regression.\n# - The pipeline automatically applies the transformations in the specified order.",
      "metadata": {
        "trusted": true
      },
      "outputs": [
        {
          "name": "stdout",
          "text": "Mean Squared Error (MSE): 120934.2421875\nCoefficient of Determination (R^2): 0.6321802730109751\n",
          "output_type": "stream"
        }
      ],
      "execution_count": 9
    },
    {
      "cell_type": "code",
      "source": "import pandas as pd\nimport numpy as np\nfrom sklearn.model_selection import GridSearchCV, train_test_split\nfrom sklearn.preprocessing import PolynomialFeatures, StandardScaler, OneHotEncoder\nfrom sklearn.compose import ColumnTransformer\nfrom sklearn.pipeline import Pipeline\nfrom sklearn.linear_model import Ridge\nfrom sklearn.metrics import mean_squared_error, r2_score\n\n# Supondo que você tenha um DataFrame pandas chamado 'data_frame' com múltiplas colunas\n\n# Separar variáveis de entrada e variável alvo\nX = data_frame[['CPU_frequency', 'RAM_GB', 'Storage_GB_SSD', 'CPU_core', 'OS', 'GPU', 'Category']]\ny = data_frame['Price']\n\n# Separar as variáveis numéricas e categóricas\nnumeric_features = ['CPU_frequency', 'RAM_GB', 'Storage_GB_SSD', 'CPU_core']\ncategorical_features = ['OS', 'GPU', 'Category']\n\n# Criar transformadores para variáveis numéricas e categóricas\nnumeric_transformer = Pipeline(steps=[\n    ('scaler', StandardScaler())])\n\ncategorical_transformer = Pipeline(steps=[\n    ('onehot', OneHotEncoder(handle_unknown='ignore'))])\n\n# Criar um pré-processador que aplica os transformadores apropriados\npreprocessor = ColumnTransformer(\n    transformers=[\n        ('num', numeric_transformer, numeric_features),\n        ('cat', categorical_transformer, categorical_features)])\n\n# Criar um pipeline que inclui a transformação polinomial e o modelo Ridge\nmodel = Pipeline(steps=[\n    ('preprocessor', preprocessor),\n    ('poly', PolynomialFeatures()),\n    ('regressor', Ridge())\n])\n\n# Definir a grade de hiperparâmetros\nparam_grid = {\n    'poly__degree': [2, 3, 4],\n    'regressor__alpha': [0.1, 1.0, 10.0]\n}\n\n# Dividir os dados em conjuntos de treino e teste\nX_train, X_test, y_train, y_test = train_test_split(X, y, test_size=0.2, random_state=42)\n\n# Realizar a busca em grade com validação cruzada\ngrid_search = GridSearchCV(model, param_grid, cv=5)\ngrid_search.fit(X_train, y_train)\n\n# Fazer previsões usando o modelo treinado\ny_pred = grid_search.predict(X_test)\n\n# Calcular o erro quadrático médio (MSE)\nmse = mean_squared_error(y_test, y_pred)\n\n# Calcular o coeficiente de determinação (R^2)\nr2 = r2_score(y_test, y_pred)\n\n# Exibir os valores de MSE e R^2\nprint(\"Mean Squared Error (MSE):\", mse)\nprint(\"Coefficient of Determination (R^2):\", r2)\n\n# Informar sobre o melhor modelo encontrado\nprint(\"Best parameters found:\", grid_search.best_params_)\nprint(\"Best estimator:\", grid_search.best_estimator_)\n",
      "metadata": {
        "trusted": true
      },
      "outputs": [
        {
          "name": "stdout",
          "text": "Mean Squared Error (MSE): 225171.51268229782\nCoefficient of Determination (R^2): 0.022964793355110702\nBest parameters found: {'poly__degree': 3, 'regressor__alpha': 10.0}\nBest estimator: Pipeline(steps=[('preprocessor',\n                 ColumnTransformer(transformers=[('num',\n                                                  Pipeline(steps=[('scaler',\n                                                                   StandardScaler())]),\n                                                  ['CPU_frequency', 'RAM_GB',\n                                                   'Storage_GB_SSD',\n                                                   'CPU_core']),\n                                                 ('cat',\n                                                  Pipeline(steps=[('onehot',\n                                                                   OneHotEncoder(handle_unknown='ignore'))]),\n                                                  ['OS', 'GPU', 'Category'])])),\n                ('poly', PolynomialFeatures(degree=3)),\n                ('regressor', Ridge(alpha=10.0))])\n",
          "output_type": "stream"
        }
      ],
      "execution_count": 12
    },
    {
      "cell_type": "markdown",
      "source": "## Authors\n",
      "metadata": {}
    },
    {
      "cell_type": "markdown",
      "source": "[Abhishek Gagneja](https://www.linkedin.com/in/abhishek-gagneja-23051987/)\n",
      "metadata": {}
    },
    {
      "cell_type": "markdown",
      "source": "## Change Log\n",
      "metadata": {}
    },
    {
      "cell_type": "markdown",
      "source": "|Date (YYYY-MM-DD)|Version|Changed By|Change Description|\n|-|-|-|-|\n|2023-12-10|0.1|Abhishek Gagneja|Initial Draft created|\n",
      "metadata": {}
    },
    {
      "cell_type": "markdown",
      "source": "Copyright © 2023 IBM Corporation. All rights reserved.\n",
      "metadata": {}
    },
    {
      "cell_type": "code",
      "source": "",
      "metadata": {
        "trusted": true
      },
      "outputs": [],
      "execution_count": null
    }
  ]
}
